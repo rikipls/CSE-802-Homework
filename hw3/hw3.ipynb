{
 "cells": [
  {
   "cell_type": "markdown",
   "source": [
    "# Homework 3\n",
    "### CSE 802\n",
    "### David Rackerby"
   ],
   "metadata": {
    "collapsed": false
   }
  },
  {
   "cell_type": "markdown",
   "source": [
    "1. Consider a two-category (ω1 and ω2) classification problem with equal priors. Each feature is a two- dimensional vector x = (x1, x2)t . The class-conditional densities are:\n",
    "p(x|ω1) ∼ N(μ1 = (0,0)t , Σ1 = 2I),\n",
    "p(x|ω2) ∼ N(μ2 = (3,3)t , Σ2 = I).\n",
    "\n",
    "(a) [7 points] Derive the Bayes decision rule and the Bayes decision boundary. The Bayes decision rule must be written in terms of the Bayes decision boundary.\n"
   ],
   "metadata": {
    "collapsed": false
   }
  },
  {
   "cell_type": "markdown",
   "source": [
    "Start with the minimum-error-rate classification:\n",
    "$g_i(\\textbf{x})$ = ln $p(\\textbf{x}|\\omega_i) +$ ln$P(\\omega_i)$\n",
    "\n",
    "With equal priors, this reduces to $g_i(\\textbf{x})$ = ln $p(\\textbf{x}|\\omega_i)$\n",
    "Then expand using the formula for MVG:\n",
    "$g_i(\\textbf{x}) = -\\frac{1}{2}(\\textbf{x}-\\textbf{\\mu}_i)^t\\Sigma_i^{-1}(\\textbf{x}-\\textbf{\\mu}_i) - \\frac{d}{2}$ln$2\\pi - \\frac{1}{2}|\\Sigma_i|$\n",
    "\n",
    "Which we further reduce to remove additive constants: $g_i(\\textbf{x}) = -\\frac{1}{2}(\\textbf{x}-\\textbf{\\mu}_i)^t\\Sigma_i^{-1}(\\textbf{x}-\\textbf{\\mu}_i)-\\frac{1}{2}|\\Sigma_i|$"
   ],
   "metadata": {
    "collapsed": false
   }
  },
  {
   "cell_type": "markdown",
   "source": [
    "Then plug-in the MVG parameters for each class:\n",
    "$g_1(\\textbf{x}) = -\\frac{1}{2}\\textbf{x}^t\\begin{bmatrix}\\frac{1}{2} & 0 \\\\ 0 & \\frac{1}{2} \\end{bmatrix}\\textbf{x} - 2 = -\\frac{1}{4}\\textbf{$"
   ],
   "metadata": {
    "collapsed": false
   }
  }
 ],
 "metadata": {
  "kernelspec": {
   "display_name": "Python 3",
   "language": "python",
   "name": "python3"
  },
  "language_info": {
   "codemirror_mode": {
    "name": "ipython",
    "version": 2
   },
   "file_extension": ".py",
   "mimetype": "text/x-python",
   "name": "python",
   "nbconvert_exporter": "python",
   "pygments_lexer": "ipython2",
   "version": "2.7.6"
  }
 },
 "nbformat": 4,
 "nbformat_minor": 0
}
