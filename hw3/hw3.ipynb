{
 "cells": [
  {
   "cell_type": "markdown",
   "source": [
    "# Homework 3\n",
    "### CSE 802\n",
    "### David Rackerby"
   ],
   "metadata": {
    "collapsed": false
   }
  },
  {
   "cell_type": "markdown",
   "source": [
    "1. Consider a two-category (ω1 and ω2) classification problem with equal priors. Each feature is a two- dimensional vector x = (x1, x2)t . The class-conditional densities are:\n",
    "p(x|ω1) ∼ N(μ1 = (0,0)t , Σ1 = 2I),\n",
    "p(x|ω2) ∼ N(μ2 = (3,3)t , Σ2 = I).\n",
    "\n",
    "(a) [7 points] Derive the Bayes decision rule and the Bayes decision boundary. The Bayes decision rule must be written in terms of the Bayes decision boundary.\n"
   ],
   "metadata": {
    "collapsed": false
   }
  },
  {
   "cell_type": "markdown",
   "source": [
    "Start with the minimum-error-rate classification:\n",
    "$g_i(\\textbf{x})$ = ln $p(\\textbf{x}|\\omega_i) +$ ln$P(\\omega_i)$\n",
    "\n",
    "With equal priors, this reduces to $g_i(\\textbf{x})$ = ln $p(\\textbf{x}|\\omega_i)$\n",
    "Then expand using the formula for MVG:\n",
    "$g_i(\\textbf{x}) = -\\frac{1}{2}(\\textbf{x}-\\textbf{\\mu}_i)^t\\Sigma_i^{-1}(\\textbf{x}-\\textbf{\\mu}_i) - \\frac{d}{2}$ln$2\\pi - \\frac{1}{2}|\\Sigma_i|$\n",
    "\n",
    "Which we further reduce to remove additive constants: $g_i(\\textbf{x}) = -\\frac{1}{2}(\\textbf{x}-\\textbf{\\mu}_i)^t\\Sigma_i^{-1}(\\textbf{x}-\\textbf{\\mu}_i)-\\frac{1}{2}|\\Sigma_i|$"
   ],
   "metadata": {
    "collapsed": false
   }
  },
  {
   "cell_type": "markdown",
   "source": [
    "Then plug-in the MVG parameters for each class:\n",
    "$g_1(\\textbf{x}) = -\\frac{1}{2}\\textbf{x}^t\\begin{bmatrix}\\frac{1}{2} & 0 \\\\ 0 & \\frac{1}{2} \\end{bmatrix}\\textbf{x} - 2 = -\\frac{1}{2}\\textbf{x}^t \\frac{1}{2}I\\textbf{x} - 2 = -\\frac{1}{4}\\textbf{x}^t\\textbf{x} - 2 = -\\frac{1}{4}(x_1^2 + x_2^2) - 2$"
   ],
   "metadata": {
    "collapsed": false
   }
  },
  {
   "cell_type": "markdown",
   "source": [
    "$g_2(\\textbf{x}) = -\\frac{1}{2}\\begin{pmatrix} x_1 - 3 \\\\ x_2 - 3 \\end{pmatrix}^t I \\begin{pmatrix} x_1 - 3 \\\\ x_2 - 3 \\end{pmatrix} - \\frac{1}{2} = -\\frac{1}{2}((x_1 - 3)^2 + (x_2 - 3)^2) - \\frac{1}{2} = -\\frac{1}{2}x_1^2 - \\frac{1}{2}x_2^2 + 3x_1 + 3x_2 - \\frac{19}{2}$"
   ],
   "metadata": {
    "collapsed": false
   }
  },
  {
   "cell_type": "markdown",
   "source": [
    "Set the discriminant functions equal to each other to derive the decision boundary:\n",
    "$g_1(\\textbf{x}) = g_2(\\textbf{x})$\n",
    "$\\implies -\\frac{1}{4}(x_1^2 + x_2^2) - 2 = -\\frac{1}{2}x_1^2 - \\frac{1}{2}x_2^2 + 3x_1 + 3x_2 - \\frac{19}{2}$\n",
    "$\\implies \\frac{1}{4}x_1^2 + \\frac{1}{4}x_2^2 - 3x_1 - 3x_2 + \\frac{15}{2} = 0$\n",
    "$\\implies x_1^2 + x_2^2 - 12x_1 - 12x_2 + 30 = 0$\n",
    "$\\implies x_1^2 + x_2^2 - 12x_1 - 12x_2 + 72 = 42$\n",
    "$\\implies (x_1 - 6)^2 + (x_2 - 6)^2 = 42$"
   ],
   "metadata": {
    "collapsed": false
   }
  },
  {
   "cell_type": "markdown",
   "source": [
    "The decision boundary is a circle centered at (6, 6) with a radius of $\\sqrt{42}$. The decision rule is the following: assign $\\textbf{x}$ to class $\\omega_1$ if $(x_1 - 6)^2 + (x_2 - 6)^2$ is greater than 42 (outside the circle); otherwise, assign $\\textbf{x}$ to $\\omega_2$"
   ],
   "metadata": {
    "collapsed": false
   }
  },
  {
   "cell_type": "markdown",
   "source": [
    "(b) [10 points] What are the theoretical Bhattacharyya and Chernoff bounds on the probability of misclassification, P(error)?"
   ],
   "metadata": {
    "collapsed": false
   }
  },
  {
   "cell_type": "markdown",
   "source": [
    "Begin with the formula for the Chernoff Bound:\n",
    "$P(error) \\leq P^\\Beta(\\omega_1)P^{1-\\Beta}(\\omega_2)\\int p^\\Beta(\\textbf{x}|\\omega_1)p^{1-\\Beta}(\\textbf{x}|\\omega_2)d\\textbf{x}$ for $0 \\leq \\Beta \\leq 1.$\n",
    "Since priors are equal, $P^\\Beta(\\omega_1)P^{1-\\Beta}(\\omega_2) = 0.5$.\n",
    "Since the likelihoods are both multivariate gaussian, $\\int p^\\Beta(\\textbf{x}|\\omega_1)p^{1-\\Beta}(\\textbf{x}|\\omega_2)d\\textbf{x} = e^{-k(\\Beta)}$ where $$k(\\Beta) = \\frac{\\Beta(1-\\Beta)}{2}(\\textbf{\\mu}_2 - \\textbf{\\mu}_1)^t [\\Beta\\Sigma_1 + (1-\\Beta)\\Sigma_2]^{-1}(\\textbf{\\mu}_2 - \\textbf{\\mu}_1) + \\frac{1}{2}$ln$\\frac{|\\Beta\\Sigma_1 + (1-\\Beta)\\Sigma_2|}{|\\Sigma_1|^\\Beta |\\Sigma_2|^{1-\\Beta}$$"
   ],
   "metadata": {
    "collapsed": false
   }
  },
  {
   "cell_type": "markdown",
   "source": [
    "Now we plug-in the means and variances for both classes and simplify:\n",
    "$$k(\\Beta) = \\frac{\\Beta(1-\\Beta)}{2}\\begin{pmatrix} 3 \\\\ 3\\end{pmatrix}^t [2\\Beta I + (1-\\Beta) I]^{-1} \\begin{pmatrix} 3 \\\\ 3 \\end{pmatrix} + \\frac{1}{2}ln\\frac{|2 \\Beta I + (1-\\Beta)I|}{|2I|^{\\Beta}|I|^{1-\\Beta}$$"
   ],
   "metadata": {
    "collapsed": false
   }
  },
  {
   "cell_type": "markdown",
   "source": [
    "$$= \\frac{\\Beta(1-\\Beta)}{2}\\begin{pmatrix} 3 \\\\ 3\\end{pmatrix}^t [(1+\\Beta)I]^{-1} \\begin{pmatrix} 3 \\\\ 3 \\end{pmatrix} + \\frac{1}{2}ln\\frac{|(1+\\Beta)I|}{|2I|^{\\Beta}|I|^{1-\\Beta}$$"
   ],
   "metadata": {
    "collapsed": false
   }
  },
  {
   "cell_type": "markdown",
   "source": [
    "$$= \\frac{\\Beta(1-\\Beta)}{2}\\begin{pmatrix} 3 \\\\ 3\\end{pmatrix}^t \\frac{1}{1+\\Beta}I \\begin{pmatrix} 3 \\\\ 3 \\end{pmatrix} + \\frac{1}{2}ln\\frac{(1+\\Beta)^2}{4^{\\Beta}$$"
   ],
   "metadata": {
    "collapsed": false
   }
  },
  {
   "cell_type": "markdown",
   "source": [
    "$$= \\frac{\\Beta(1-\\Beta)}{2(1+B)}\\begin{pmatrix} 3 \\\\ 3\\end{pmatrix}^t I \\begin{pmatrix} 3 \\\\ 3 \\end{pmatrix} + ln(1+\\Beta) - \\frac{B}{2}ln(4)$$"
   ],
   "metadata": {
    "collapsed": false
   }
  },
  {
   "cell_type": "markdown",
   "source": [
    "$$= \\frac{9\\Beta(1-\\Beta)}{1+B} + ln(1+\\Beta) - \\frac{B}{2}ln(4)$$"
   ],
   "metadata": {
    "collapsed": false
   }
  },
  {
   "cell_type": "markdown",
   "source": [
    "Now that everything is in terms of $\\Beta$, we derive $e^{-k(\\Beta)}$ with respect to $\\Beta$ and find the local minimum by setting $\\Beta = 0$ and finding the solution in the range [0, 1]:\n",
    "$\\frac{d}{d\\Beta}e^{-k(\\Beta)} = 0$ when $\\Beta = 0.41527$\n",
    "\n",
    "Thus, the theoretical Chernoff bound on the error is $P(error) \\leq 0.5 \\cdot e^{-k(0.41527)} = 0.100585$.\n",
    "\n",
    "To calculate the Bhattacharyya bound, we set $\\Beta = 0.5$ and take the output: $P(error) \\leq 0.5 \\cdot e^{-k(0.5)} = 0.10518$\n"
   ],
   "metadata": {
    "collapsed": false
   }
  },
  {
   "cell_type": "markdown",
   "source": [
    "(c) [3 points] Now generate 10,000 bivariate random patterns from each of the two densities (if you are using matlab, then the mvnrnd function can be used to generate these patterns). Plot these patterns in a graph using different markers to distinguish the two classes. On the same graph, plot the Bayes decision boundary derived earlier."
   ],
   "metadata": {
    "collapsed": false
   }
  },
  {
   "cell_type": "code",
   "execution_count": 22,
   "outputs": [
    {
     "data": {
      "text/plain": "<Figure size 640x480 with 1 Axes>",
      "image/png": "[encoded data removed]"
     },
     "metadata": {},
     "output_type": "display_data"
    }
   ],
   "source": [
    "import numpy as np\n",
    "import matplotlib.pyplot as plt\n",
    "\n",
    "mean_1 = np.array([0, 0])\n",
    "mean_2 = np.array([3, 3])\n",
    "\n",
    "cov_1 = 2*np.identity(2)\n",
    "cov_2 = np.identity(2)\n",
    "\n",
    "class_1_sample = np.random.multivariate_normal(mean=mean_1, cov=cov_1, size=10_000)\n",
    "class_2_sample = np.random.multivariate_normal(mean=mean_2, cov=cov_2, size=10_000)\n",
    "\n",
    "plt.plot(class_1_sample[:,0], class_1_sample[:,1], 'bo', label=r'$\\omega_1$')\n",
    "plt.plot(class_2_sample[:,0], class_2_sample[:,1], 'ro', label=r'$\\omega_2$')\n",
    "circle = plt.Circle(xy=(6, 6), radius=(42**0.5), color='g', fill=False, zorder=2)\n",
    "plt.gca().add_patch(circle)\n",
    "plt.gca().set_aspect('equal')\n",
    "plt.xlabel(r'$x_1$')\n",
    "plt.ylabel(r'$x_2$')\n",
    "plt.legend()\n",
    "plt.show()\n"
   ],
   "metadata": {
    "collapsed": false,
    "ExecuteTime": {
     "start_time": "2023-04-03T19:34:12.559833Z",
     "end_time": "2023-04-03T19:34:12.686898Z"
    }
   }
  },
  {
   "cell_type": "code",
   "execution_count": null,
   "outputs": [],
   "source": [],
   "metadata": {
    "collapsed": false
   }
  }
 ],
 "metadata": {
  "kernelspec": {
   "display_name": "Python 3",
   "language": "python",
   "name": "python3"
  },
  "language_info": {
   "codemirror_mode": {
    "name": "ipython",
    "version": 2
   },
   "file_extension": ".py",
   "mimetype": "text/x-python",
   "name": "python",
   "nbconvert_exporter": "python",
   "pygments_lexer": "ipython2",
   "version": "2.7.6"
  }
 },
 "nbformat": 4,
 "nbformat_minor": 0
}
